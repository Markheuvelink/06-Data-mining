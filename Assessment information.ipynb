{
 "cells": [
  {
   "cell_type": "markdown",
   "metadata": {},
   "source": [
    "# **Data mining FIFA players project**"
   ]
  },
  {
   "cell_type": "markdown",
   "id": "4c56fba8",
   "metadata": {},
   "source": [
    "## **Analyzing Naive Bayes model**"
   ]
  },
  {
   "cell_type": "markdown",
   "id": "d6a75265",
   "metadata": {},
   "source": [
    "# Data Mining Project Template using CRISP-DM\n",
    "\n",
    "## Demo Video\n",
    "\n",
    "Embed your project demo video below like shown below.\n",
    "\n",
    "<iframe width=\"560\" height=\"315\" src=\"https://www.youtube.com/embed/2vRi4jle1h0?si=fhsqg43mYM2Z3NGE\" title=\"YouTube video player\" frameborder=\"0\" allow=\"accelerometer; autoplay; clipboard-write; encrypted-media; gyroscope; picture-in-picture; web-share\" referrerpolicy=\"strict-origin-when-cross-origin\" allowfullscreen></iframe>\n"
   ]
  },
  {
   "cell_type": "markdown",
   "id": "d0c05cf9",
   "metadata": {},
   "source": [
    "## **FIFA players k-NN model**\n"
   ]
  },
  {
   "cell_type": "markdown",
   "id": "1994004d",
   "metadata": {},
   "source": [
    "### 1. Business goal\n",
    "In the world off football data is becoming more and more common. Because it helps a lot in the business to understand what players strong points are and in which they lack. Data helps them understand that. But it also helps to understand the player. Because at times you see over the years off a player's football life span that they play multiple different positions. \n",
    "\n",
    "But why is the question? Haven't they become good footballers because they are good in the original positions they are scouted in? Well, no, not always. Thats why with data we can see which roll fits a player more. This way we can eliminate the positions changes for a player. This way he can focus on the skills he has and improve them to perfection. This will benefit the club and the players. Because that way they can fully focus on becoming the best in the given position of their traits.\n",
    "\n",
    "The metrics that will be used are for example: shooting power, positioning, defending, standing tackle, sliding tackle, short passes and long passes. These are just some off the metrics to decide what kind off player you are. With these data points we can calculate if you are a defending or attacking type off player. This way you can develop your game around it.\n",
    "\n",
    "All though we are using the data set from the game FIFA. This data may not be fully equal to reality. But in FIFA data analysis is used to create to the stats off a player. with these stats we can simulate how it would be if general players were analysed in the same way. Keep in mind keepers will be taken out off the data set because off the completely different aspects that need to be analysed compared to in field players.\n"
   ]
  },
  {
   "cell_type": "markdown",
   "id": "34fce347",
   "metadata": {},
   "source": [
    "### 2. Data Understanding\n",
    " \n",
    "The dataset was collected by football experts working for EAFC, the company behind the popular FIFA video game series. The data is publicly available on Kaggle, exported as a CSV file, and provides a comprehensive overview of football players across top-tier leagues, including some second and third divisions.\n",
    " \n",
    "The dataset is designed to reflect real-world player attributes, which are used in-game to simulate player performance. These attributes are meticulously evaluated by EAFC’s team of analysts, ensuring a high degree of accuracy and relevance for football analytics.\n",
    " \n",
    "#### Data Description\n",
    " \n",
    "The dataset contains 51 attributes for each player, covering:\n",
    " \n",
    "- Player Identification & Metadata\n",
    "name, full_name: Player’s name and full name.\n",
    "birth_date, age: Birthdate and current age.\n",
    "height_cm, weight_kgs: Physical attributes.\n",
    "nationality, positions: Player’s country and primary/secondary positions (e.g., CF, RW, ST).\n",
    " \n",
    "- Performance & Skill Attributes\n",
    "Attacking Skills:\n",
    "crossing, finishing, dribbling, shot_power, long_shots, etc.\n",
    "Defensive Skills:\n",
    "heading_accuracy, interceptions, standing_tackle, sliding_tackle, etc.\n",
    "Physical & Mental Attributes:\n",
    "strength, aggression, stamina, composure, vision, etc.\n",
    " \n",
    "- Career & Club Details\n",
    "overall_rating, potential: Player’s current and potential skill rating (0–100 scale).\n",
    "value_euro, wage_euro: Estimated market value and weekly wage.\n",
    "club, national_team: Current affiliations.\n",
    " \n",
    "#### Summary Statistics\n",
    " \n",
    "The dataset contains 15,889 outfield players, with stats on 51 different attributes.\n"
   ]
  },
  {
   "cell_type": "markdown",
   "id": "f32f7c94",
   "metadata": {},
   "source": [
    "### 3. Data Preparation\n",
    "\n",
    "1. First all the goalkeepers were removed from the data; this was done because they could influence the prediction to much. The goalkeepers have very different attributes then the infield players. By removing them the future prediction would be better.\n",
    "\n",
    "2. Handling Missing Values\n",
    "Columns like national_team, release_clause_euro, and national_rating had missing values but were deemed non-essential for the classification task.\n",
    "Critical columns (e.g., attacking_score, defending_score) were checked for completeness. Rows with missing values in these fields were dropped. As a result, the dataset reduced from ~17,953 to 15,889 entries (goalkeepers excluded). Dropped Irrelevant Columns: Removed metadata like name, birth_date, and financial details (wage_euro) to focus on performance metrics.\n",
    "\n",
    "3. Dropping rows with empty data. If rows have any data missing in the data set, they are removed from the dataset.\n",
    " \n",
    "4. Data Integration\n",
    "Single-Source Data: The dataset was sourced directly from Kaggle as one CSV file (fifa_players.csv), so no integration was needed.\n",
    "Subsetting: Goalkeepers (positions containing GK) were filtered out to focus on field players. \n",
    "Field players were divided into attacking or defending by their attributes into column player_type.\n",
    " \n",
    "5. Normalization\n",
    "Min-max scaling (0–1) applied to all numeric features to ensure equal weighting in distance-based models (e.g., kNN):\n",
    " \n",
    "6. Categorical Encoding\n",
    "player_type (categorical) was encoded numerically for modelling.\n",
    " \n",
    "7. Normalization: \n",
    "Essential for kNN to avoid bias toward high-magnitude features.\n"
   ]
  },
  {
   "cell_type": "markdown",
   "id": "7d5fdc1d",
   "metadata": {},
   "source": [
    "### 4. Modelling\n",
    "\n",
    "For predicting football players' positions based on their statistics, I chose the k-Nearest Neighbors (k-NN) algorithm. k-NN is ideal because it classifies players based on the similarity of their performance metrics, such as tackles, and passes. Since player positions are often associated with specific statistical patterns, k-NN can effectively predict a player’s role by comparing them to similar players in the dataset.\n",
    "\n",
    "Additionally, k-NN is simple, flexible, and doesn’t make assumptions about the data distribution, making it perfect for this classification task. Its quick setup and ability to adapt to various player styles make it an excellent choice for this problem. \n",
    "\n",
    "To fine-tune the k-NN model, I used GridSearchCV with 5-fold cross-validation. I tested different values for the number of Neighbors (1–20), distance metrics (euclidean and manhattan), and weight strategies (uniform and distance). After evaluating 80 combinations, the best result came from using 20 neighbors, Euclidean distance, and uniform weights.\n",
    "\n",
    "The data was being prepared to use for the modelling. 30% off the data was chosen for testing, 70% will be left over for the model to learn. \n"
   ]
  },
  {
   "cell_type": "markdown",
   "id": "a4e22eee",
   "metadata": {},
   "source": [
    "### 5. Evaluation\n",
    "The k-NN model achieved 97.21% accuracy on the test set, with key metrics including precision (0.9719), recall (0.9650), and F1 score (0.9684). Attackers had precision of 0.97 and recall of 0.96, while Defenders showed precision of 0.97 and recall of 0.98. The confusion matrix revealed 2,038 correct predictions for Attackers and 2,596 for Defenders, with only 133 misclassifications out of 4,767 samples.\n",
    "\n",
    "The model’s interpretability is straightforward, relying on proximity in the feature space, making it easy to understand and explain. Compared to a baseline model, k-NN significantly outperformed in both accuracy and class balance.\n",
    "\n",
    "**Strengths and Weaknesses**\n",
    "Strengths:\n",
    "- High accuracy and balanced performance\n",
    "- Simple, interpretable model\n",
    "- Effective with well-separated features\n",
    "\n",
    "Weaknesses:\n",
    "- Slow on large datasets\n",
    "- Sensitive to irrelevant/noisy features\n",
    "- Requires feature scaling\n",
    "\n",
    "**Biases and Limitations**\n",
    "The model may struggle with noisy or irrelevant features and requires proper feature scaling for optimal performance. Despite these limitations, the k-NN model remains a powerful, interpretable choice for classification tasks. Also, it is only limited to 2 positions, this could be improved for in the future.\n"
   ]
  },
  {
   "cell_type": "markdown",
   "id": "31ad4e5a",
   "metadata": {},
   "source": [
    "### 6. Deployment\n",
    "\n",
    "In the real world the deployment could be more difficult, but it will be possible. First, I need a tool that EA uses to analyse players. I know that exists because the current stats they have on players, and it would be impossible for them to analyse each player 1 by 1. When that’s available I can use the tool from EA to analyse the player based on their stats. This way I can see early on what the best place for the player is.\n",
    "\n",
    "For the future I plan to adjust the data points. Because the football game changes every year or even more. Thats why the qualities necessary for an attacking player and defending player changes over time. So, this needs to be discussed with the trainer using the model. Because they can monitor what they want from attacking or defending player.\n",
    "\n",
    "In the future the model could be expanded to make it possible to predict each possible position in the field instead off just attacking and defending. That way it could really show its potential."
   ]
  },
  {
   "cell_type": "markdown",
   "metadata": {},
   "source": [
    "### Conclusion\n",
    "\n",
    "The k-NN model achieved a high accuracy of 97.21% in predicting player positions, demonstrating its effectiveness in classifying players as either attackers or defenders based on their performance metrics.  The model's simplicity and interpretability are notable strengths, as it relies on the straightforward concept of proximity in the feature space.    \n",
    "\n",
    "However, the model has limitations, including potential slowness with large datasets and sensitivity to irrelevant or noisy features.  These limitations suggest that careful feature selection and scaling are crucial for optimal performance.    \n",
    "\n",
    "Overall, the project successfully applied the k-NN algorithm to predict player positions with high accuracy.  The insights gained from this project could be valuable for football clubs and analysts in making data-driven decisions about player development and positioning.\n",
    "\n",
    "But in the end I don't think it will be used in the world. Because it there is need for the EA tool to analyze the stats from a player first. Without that it will be impossble to use. \n",
    "\n",
    "Besides this I learned a lot about how the model works and how i can use these kind off models in the future for different kinds off projects."
   ]
  }
 ],
 "metadata": {
  "kernelspec": {
   "display_name": "Python 3",
   "language": "python",
   "name": "python3"
  },
  "language_info": {
   "name": "python",
   "version": "3.x"
  }
 },
 "nbformat": 4,
 "nbformat_minor": 5
}

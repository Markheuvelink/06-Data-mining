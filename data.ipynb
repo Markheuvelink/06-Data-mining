{
 "cells": [
  {
   "cell_type": "markdown",
   "metadata": {},
   "source": [
    "# First steps\n",
    "We are going to look at some data first\n",
    "## Data loading"
   ]
  },
  {
   "cell_type": "code",
   "execution_count": 18,
   "metadata": {},
   "outputs": [
    {
     "name": "stdout",
     "output_type": "stream",
     "text": [
      "           name                       full_name birth_date  age  height_cm  \\\n",
      "0      L. Messi  Lionel Andrés Messi Cuccittini  6/24/1987   31     170.18   \n",
      "1    C. Eriksen    Christian  Dannemann Eriksen  2/14/1992   27     154.94   \n",
      "2      P. Pogba                      Paul Pogba  3/15/1993   25     190.50   \n",
      "3    L. Insigne                 Lorenzo Insigne   6/4/1991   27     162.56   \n",
      "4  K. Koulibaly               Kalidou Koulibaly  6/20/1991   27     187.96   \n",
      "\n",
      "   weight_kgs  positions nationality  overall_rating  potential  ...  \\\n",
      "0        72.1   CF,RW,ST   Argentina              94         94  ...   \n",
      "1        76.2  CAM,RM,CM     Denmark              88         89  ...   \n",
      "2        83.9     CM,CAM      France              88         91  ...   \n",
      "3        59.0      LW,ST       Italy              88         88  ...   \n",
      "4        88.9         CB     Senegal              88         91  ...   \n",
      "\n",
      "   long_shots  aggression interceptions  positioning  vision  penalties  \\\n",
      "0          94          48            22           94      94         75   \n",
      "1          89          46            56           84      91         67   \n",
      "2          82          78            64           82      88         82   \n",
      "3          84          34            26           83      87         61   \n",
      "4          15          87            88           24      49         33   \n",
      "\n",
      "  composure  marking standing_tackle  sliding_tackle  \n",
      "0        96       33              28              26  \n",
      "1        88       59              57              22  \n",
      "2        87       63              67              67  \n",
      "3        83       51              24              22  \n",
      "4        80       91              88              87  \n",
      "\n",
      "[5 rows x 51 columns]\n"
     ]
    }
   ],
   "source": [
    "import pandas as pd\n",
    "url = \"fifa_players.csv\"\n",
    "df = pd.read_csv(url)\n",
    "print(df.head())"
   ]
  }
 ],
 "metadata": {
  "kernelspec": {
   "display_name": "Python 3",
   "language": "python",
   "name": "python3"
  },
  "language_info": {
   "codemirror_mode": {
    "name": "ipython",
    "version": 3
   },
   "file_extension": ".py",
   "mimetype": "text/x-python",
   "name": "python",
   "nbconvert_exporter": "python",
   "pygments_lexer": "ipython3",
   "version": "3.12.1"
  }
 },
 "nbformat": 4,
 "nbformat_minor": 2
}
